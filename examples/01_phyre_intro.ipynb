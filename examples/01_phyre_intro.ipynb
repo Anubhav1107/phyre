{
 "cells": [
  {
   "cell_type": "markdown",
   "metadata": {},
   "source": [
    "# Introduction to PHYRE\n",
    "\n",
    "PHYRE consists of an environment, a two-dimensional world with Newtonian physics, and a set of tasks.\n",
    "Each task consists of an initial scene with some geometric bodies and a goal condition that should be satisified.\n",
    "An agent can introduce one or two extra objects into a scene. Once done, the agent request of sumulation of scene.\n",
    "The task is considered to be **solved**, if after the simulation the goal condition is satisfied.\n",
    "\n",
    "The image below shows three different tasks (on the left) and result of simulation with a ball introduced into the scene. Note that in the current version of the dataset all tasks have the same goal: a pair of colored object (blue, green, or purple) should touch each other.\n",
    "\n",
    "\n",
    "This notebook shows how to use the ```phyre``` API to interact with the environment and tasks and how to train a simple random agent.\n",
    "\n",
    "![PHYRE tasks](../imgs/task_example.png \"PHYRE tasks and simulation example\")\n",
    "\n"
   ]
  },
  {
   "cell_type": "markdown",
   "metadata": {},
   "source": [
    "### Run this in colab\n",
    "You can open and play with this notebook in colab.\n",
    "\n",
    "[![Foo](https://colab.research.google.com/assets/colab-badge.svg)](https://colab.research.google.com/github/facebookresearch/phyre/blob/master/examples/01_phyre_intro.ipynb)\n"
   ]
  },
  {
   "cell_type": "code",
   "execution_count": null,
   "metadata": {},
   "outputs": [],
   "source": [
    "# Install phyre and auxiliary packages.\n",
    "!pip install phyre matplotlib tqdm ipywidgets"
   ]
  },
  {
   "cell_type": "code",
   "execution_count": 1,
   "metadata": {},
   "outputs": [],
   "source": [
    "import math\n",
    "import random\n",
    "\n",
    "import matplotlib.pyplot as plt\n",
    "from tqdm import tqdm_notebook\n",
    "\n",
    "import phyre"
   ]
  },
  {
   "cell_type": "markdown",
   "metadata": {},
   "source": [
    "# Part 1: Introduction to PHYRE simulator\n",
    "\n",
    "\n",
    "As described in the [PHYRE paper](https://arxiv.org/abs/1908.05656), the dataset consists consists of two groups of tasks referred to as **tiers**.\n",
    "Currently we have two tiers: `ball` and `two_balls`. Tasks in the former tier are guaranteed to be solvable with a single ball, i.e., a goal condition could be satisfied at the end of simulation if a ball of right size is introduced at a right location. Naturally, tasks in the latter tier require two balls.\n",
    "\n",
    "Within each tier tasks are grouped in **task templates**. Each template consists of 100 conceptually similar modifications. The image below shows some examples of tasks from different templates and from the same template.\n",
    "\n",
    "![PHYRE tasks](../imgs/cross_within.png \"PHYRE tasks and templates\")\n"
   ]
  },
  {
   "cell_type": "markdown",
   "metadata": {},
   "source": [
    "## Eval setups\n",
    "\n",
    "We can measure two types of generalization: within template and cross template.\n",
    "This could be done for both tiers resulting in four **eval setups**.\n",
    "Each eval setup defines which tasks to use for training, validation and testing. One can access the list of eval setups using `phyre.MAIN_EVAL_SETUPS`."
   ]
  },
  {
   "cell_type": "code",
   "execution_count": 2,
   "metadata": {},
   "outputs": [
    {
     "name": "stdout",
     "output_type": "stream",
     "text": [
      "All eval setups: ball_cross_template ball_within_template two_balls_cross_template two_balls_within_template\n"
     ]
    }
   ],
   "source": [
    "print('All eval setups:', *phyre.MAIN_EVAL_SETUPS)\n",
    "# For now, let's select cross template for ball tier.\n",
    "eval_setup = 'ball_cross_template'"
   ]
  },
  {
   "cell_type": "markdown",
   "metadata": {},
   "source": [
    "For any type of generalization we can build multiple splits intro train, dev, and test. Moreover, different splits will have different complexity. Due to that reason we recommend to use 10 folds to report results (see paper for details). Here, we will a single fold."
   ]
  },
  {
   "cell_type": "code",
   "execution_count": 3,
   "metadata": {},
   "outputs": [
    {
     "name": "stdout",
     "output_type": "stream",
     "text": [
      "Size of resulting splits:\n",
      " train: 1600 \n",
      " dev: 400 \n",
      " test: 500\n"
     ]
    }
   ],
   "source": [
    "fold_id = 0  # For simplicity, we will just use one fold for evaluation.\n",
    "train_tasks, dev_tasks, test_tasks = phyre.get_fold(eval_setup, fold_id)\n",
    "print('Size of resulting splits:\\n train:', len(train_tasks), '\\n dev:',\n",
    "      len(dev_tasks), '\\n test:', len(test_tasks))"
   ]
  },
  {
   "cell_type": "markdown",
   "metadata": {},
   "source": [
    "Each split contains a tuple of tasks in the format ```TEMPLATE_ID:INSTANCE_ID```. Let's look into some dev tasks for example:"
   ]
  },
  {
   "cell_type": "code",
   "execution_count": 4,
   "metadata": {},
   "outputs": [
    {
     "name": "stdout",
     "output_type": "stream",
     "text": [
      "00000:000, 00000:001, 00000:002, 00000:003, 00000:004, 00000:005, 00000:006, 00000:007, 00000:008, 00000:009\n"
     ]
    }
   ],
   "source": [
    "print(*dev_tasks[:10], sep=', ')"
   ]
  },
  {
   "cell_type": "markdown",
   "metadata": {},
   "source": [
    "We can see a task instance using a player, e.g., http://player.phyre.ai/#/task/00110:007\n",
    "\n",
    "Also, you can run a server locally using `phyre -m phyre.server`."
   ]
  },
  {
   "cell_type": "markdown",
   "metadata": {},
   "source": [
    "## Action simulator\n",
    "\n",
    "In a nutshell, ActionSimulator does two things:\n",
    "\n",
    "  * Returns observations for a task.\n",
    "  * Runs a simulation for a task and an action.\n",
    "\n",
    "Action space depends on the eval setup as we have different degrees of freedom for a single ball vs two balls. Therefore, we define two action tiers that define the set of allowed action and their mapping to scene objects.\n",
    "Naturally, name of the action tier matches the name of the task tier. To get it from eval setup name, use `phyre.eval_setup_to_action_space`."
   ]
  },
  {
   "cell_type": "code",
   "execution_count": 5,
   "metadata": {},
   "outputs": [
    {
     "name": "stdout",
     "output_type": "stream",
     "text": [
      "Action tier for ball_cross_template is ball\n"
     ]
    }
   ],
   "source": [
    "action_tier = phyre.eval_setup_to_action_tier(eval_setup)\n",
    "print('Action tier for', eval_setup, 'is', action_tier)"
   ]
  },
  {
   "cell_type": "markdown",
   "metadata": {},
   "source": [
    "With an action tier and a set of tasks, we can build a simulator using `phyre.initialize_simulator`. For simplicity, we'll use the first 50 items from the dev split."
   ]
  },
  {
   "cell_type": "code",
   "execution_count": 6,
   "metadata": {},
   "outputs": [],
   "source": [
    "tasks = dev_tasks[:50]\n",
    "\n",
    "# Create the simulator from the tasks and tier.\n",
    "simulator = phyre.initialize_simulator(tasks, action_tier)"
   ]
  },
  {
   "cell_type": "markdown",
   "metadata": {},
   "source": [
    "#### Observations\n",
    "\n",
    "Given a simulator one can get access to the observations, e.g., the initial scene. Each observation a 2d integer array of size `phyre.SCENE_HEIGHT X phyre.SCENE_WIDTH`, i.e., `256x256`. Different values correspond to different object roles, e.g., background, default static object, static objects involved in goal condition, etc. The mapping is not a part of the public interface as we assume that the agents will learn the coding naturally. Alternatively, we provide `phyre.observations_to_float_rgb` function to map observations into RGB image."
   ]
  },
  {
   "cell_type": "code",
   "execution_count": 7,
   "metadata": {},
   "outputs": [
    {
     "name": "stdout",
     "output_type": "stream",
     "text": [
      "Initial scene shape=(256, 256) dtype=int64\n"
     ]
    },
    {
     "data": {
      "image/png": "[encoded data removed]",
      "text/plain": [
       "<Figure size 432x288 with 1 Axes>"
      ]
     },
     "metadata": {
      "needs_background": "light"
     },
     "output_type": "display_data"
    }
   ],
   "source": [
    "task_index = 0  # Note, this is a integer index of task within simulator.task_ids.\n",
    "task_id = simulator.task_ids[task_index]\n",
    "initial_scene = simulator.initial_scenes[task_index]\n",
    "print('Initial scene shape=%s dtype=%s' % (initial_scene.shape, initial_scene.dtype))\n",
    "plt.imshow(phyre.observations_to_float_rgb(initial_scene))\n",
    "plt.title(f'Task {task_id}');"
   ]
  },
  {
   "cell_type": "markdown",
   "metadata": {},
   "source": [
    "#### Simulation\n",
    "\n",
    "The action space is always a unit cube, but the dimension depends on the action tier. For the ball tier, the dimensionality of the action space is 3, corresponding to the (x,y) position of the ball and its radius r. For two ball tiers the dimension is 6."
   ]
  },
  {
   "cell_type": "code",
   "execution_count": 8,
   "metadata": {},
   "outputs": [
    {
     "name": "stdout",
     "output_type": "stream",
     "text": [
      "Dimension of the action space: 3\n"
     ]
    }
   ],
   "source": [
    "print('Dimension of the action space:', simulator.action_space_dim)"
   ]
  },
  {
   "cell_type": "markdown",
   "metadata": {},
   "source": [
    "We can also use the simulator to sample a fixed set of random actions from the action space using `build_discrete_action_space`. The function samples actions uniformly from the action cube skipping invalid ones. The set is guaranteed to be deterministic."
   ]
  },
  {
   "cell_type": "code",
   "execution_count": 9,
   "metadata": {},
   "outputs": [
    {
     "name": "stdout",
     "output_type": "stream",
     "text": [
      "A random action: [4.17022005e-01 7.20324493e-01 1.14374817e-04]\n"
     ]
    }
   ],
   "source": [
    "actions = simulator.build_discrete_action_space(max_actions=100)\n",
    "print('A random action:', actions[0])"
   ]
  },
  {
   "cell_type": "markdown",
   "metadata": {},
   "source": [
    "Now that we have an action, we can use the simulator to simulate it. Let's simulate it on the first task instance in our dataset. The simulator returns a **status** of the simulation (`phyre.SimulationStatus`) and intermediate observations."
   ]
  },
  {
   "cell_type": "code",
   "execution_count": 10,
   "metadata": {},
   "outputs": [
    {
     "name": "stdout",
     "output_type": "stream",
     "text": [
      "Action solves task: SimulationStatus.SOLVED\n",
      "Action does not solve task: SimulationStatus.NOT_SOLVED\n",
      "Action is an invalid input on task (e.g., occludes a task object): SimulationStatus.INVALID_INPUT\n",
      "\n",
      "Result of taking action [0.1354279  0.35570517 0.02621857] on task 00000:000 is: SimulationStatus.NOT_SOLVED\n",
      "Does [0.1354279  0.35570517 0.02621857] solve task 00000:000 ? False\n",
      "Is [0.1354279  0.35570517 0.02621857] an invalid action on task 00000:000 ? False\n"
     ]
    }
   ],
   "source": [
    "task_index = 0  # The simulator takes an index into simulator.task_ids.\n",
    "action = random.choice(actions)\n",
    "# Set need_images=False to speed up simulation, when only statuses are needed.\n",
    "status, images = simulator.simulate_single(task_index, action, need_images=True)\n",
    "# Three statuses could be returned.\n",
    "print('Action solves task:', phyre.SimulationStatus.SOLVED)\n",
    "print('Action does not solve task:', phyre.SimulationStatus.NOT_SOLVED)\n",
    "print('Action is an invalid input on task (e.g., occludes a task object):',\n",
    "      phyre.SimulationStatus.INVALID_INPUT)\n",
    "# May call is_* methods on the status to check the status.\n",
    "print()\n",
    "print('Result of taking action', action, 'on task', tasks[task_index], 'is:',\n",
    "      status)\n",
    "print('Does', action, 'solve task', tasks[task_index], '?', status.is_solved())\n",
    "print('Is', action, 'an invalid action on task', tasks[task_index], '?',\n",
    "      status.is_invalid())"
   ]
  },
  {
   "cell_type": "markdown",
   "metadata": {},
   "source": [
    "The simulator also returns a series of observations from the simulation at different timesteps. The observations are taken every second during the simulation."
   ]
  },
  {
   "cell_type": "code",
   "execution_count": 11,
   "metadata": {},
   "outputs": [
    {
     "name": "stdout",
     "output_type": "stream",
     "text": [
      "Number of observations returned by simulator: 17\n"
     ]
    },
    {
     "data": {
      "image/png": "[encoded data removed]",
      "text/plain": [
       "<Figure size 1440x1080 with 20 Axes>"
      ]
     },
     "metadata": {
      "needs_background": "light"
     },
     "output_type": "display_data"
    }
   ],
   "source": [
    "%matplotlib inline\n",
    "print('Number of observations returned by simulator:', len(images))\n",
    "\n",
    "num_across = 5\n",
    "height = int(math.ceil(len(images) / num_across))\n",
    "fig, axs = plt.subplots(height, num_across, figsize=(20, 15))\n",
    "fig.tight_layout()\n",
    "plt.subplots_adjust(hspace=0.2, wspace=0.2)\n",
    "\n",
    "# We can visualize the simulation at each timestep.\n",
    "for i, (ax, image) in enumerate(zip(axs.flatten(), images)):\n",
    "    # Convert the simulation observation to images.\n",
    "    img = phyre.observations_to_float_rgb(image)\n",
    "    ax.imshow(img)\n",
    "    ax.title.set_text(f'Timestep {i}')\n",
    "    ax.get_xaxis().set_ticks([])\n",
    "    ax.get_yaxis().set_ticks([])"
   ]
  },
  {
   "cell_type": "markdown",
   "metadata": {},
   "source": [
    "Let's visualize the final state for an action that doesn't solve the task."
   ]
  },
  {
   "cell_type": "code",
   "execution_count": 12,
   "metadata": {},
   "outputs": [
    {
     "data": {
      "image/png": "[encoded data removed]",
      "text/plain": [
       "<Figure size 504x504 with 2 Axes>"
      ]
     },
     "metadata": {},
     "output_type": "display_data"
    }
   ],
   "source": [
    "target_status = phyre.SimulationStatus.NOT_SOLVED if status == phyre.SimulationStatus.SOLVED else phyre.SimulationStatus.SOLVED\n",
    "bad_action = actions[0]\n",
    "status, images = simulator.simulate_single(task_index, bad_action, need_images=True)\n",
    "assert status.is_not_solved()\n",
    "\n",
    "# Get the start and end state of the simulation.\n",
    "img_start = phyre.vis.observations_to_float_rgb(images[0])\n",
    "img_end = phyre.vis.observations_to_float_rgb(images[-1])\n",
    "\n",
    "# Visualize.\n",
    "fig, axs = plt.subplots(1, 2, figsize=(7, 7))\n",
    "fig.tight_layout()\n",
    "plt.subplots_adjust(hspace=0.4, wspace=0.3)\n",
    "axs[0].imshow(img_start)\n",
    "axs[0].title.set_text(f'Start state\\nAction solves task: {status.is_solved()}')\n",
    "axs[0].get_xaxis().set_ticks([])\n",
    "axs[0].get_yaxis().set_ticks([])\n",
    "\n",
    "axs[1].imshow(img_end)\n",
    "axs[1].title.set_text(f'End state\\nAction solves task: {status.is_solved()}')\n",
    "axs[1].get_xaxis().set_ticks([])\n",
    "axs[1].get_yaxis().set_ticks([]);\n"
   ]
  },
  {
   "cell_type": "markdown",
   "metadata": {},
   "source": [
    "# Part 2: Random Agent\n",
    "We now build our agent. We will build the simplest agent possible: an agent that each attempt makes a random (but valid) action."
   ]
  },
  {
   "cell_type": "code",
   "execution_count": 13,
   "metadata": {},
   "outputs": [],
   "source": [
    "# We define the evaluation of this agent on a given dataset split as follows:\n",
    "\n",
    "\n",
    "def evaluate_random_agent(tasks, tier):\n",
    "    \"\"\"Evaluates the random agent on the given tasks/tier.\n",
    "\n",
    "    Args:\n",
    "        tasks: A list of task instances (strings) in the split to evaluate.\n",
    "        tier: A string of the action tier.\n",
    "\n",
    "    Returns:\n",
    "        A Evaluator object updated with the results of all the siulations.\n",
    "    \"\"\"\n",
    "\n",
    "    # Create a simulator for the task and tier.\n",
    "    simulator = phyre.initialize_simulator(tasks, tier)\n",
    "    evaluator = phyre.Evaluator(tasks)\n",
    "    assert tuple(tasks) == simulator.task_ids\n",
    "    for task_index in tqdm_notebook(range(len(tasks)), desc='Evaluate tasks'):\n",
    "        while evaluator.get_attempts_for_task(\n",
    "                task_index) < phyre.MAX_TEST_ATTEMPTS:\n",
    "            # Sample a random valid action from the simulator for the given action space.\n",
    "            action = simulator.sample()\n",
    "            # Simulate the given action and add the status from taking the action to the evaluator.\n",
    "            status, _ = simulator.simulate_single(task_index,\n",
    "                                                  action,\n",
    "                                                  need_images=False)\n",
    "            evaluator.maybe_log_attempt(task_index, status)\n",
    "    return evaluator"
   ]
  },
  {
   "cell_type": "markdown",
   "metadata": {},
   "source": [
    "Let's evaluate our agent on the dev set (for performance)."
   ]
  },
  {
   "cell_type": "code",
   "execution_count": 14,
   "metadata": {},
   "outputs": [
    {
     "data": {
      "application/vnd.jupyter.widget-view+json": {
       "model_id": "c6a94bfd1f324b25baf41ebe7cea2d66",
       "version_major": 2,
       "version_minor": 0
      },
      "text/plain": [
       "HBox(children=(IntProgress(value=0, description='Evaluate tasks', max=50, style=ProgressStyle(description_widt…"
      ]
     },
     "metadata": {},
     "output_type": "display_data"
    },
    {
     "name": "stdout",
     "output_type": "stream",
     "text": [
      "\n"
     ]
    }
   ],
   "source": [
    "# NOTE: Evaluating this agent can take ~1.5 minutes.\n",
    "evaluator = evaluate_random_agent(tasks, action_tier)"
   ]
  },
  {
   "cell_type": "markdown",
   "metadata": {},
   "source": [
    "The metric used to compare the performance of agents is AUCESS after 100 attempts. See the PHYRE paper for more details on the AUCESS metric."
   ]
  },
  {
   "cell_type": "code",
   "execution_count": 15,
   "metadata": {},
   "outputs": [
    {
     "name": "stdout",
     "output_type": "stream",
     "text": [
      "AUCESS after 100 attempts of random agent on dev set 0.4472637155325895\n"
     ]
    }
   ],
   "source": [
    "print('AUCESS after 100 attempts of random agent on dev set',\n",
    "      evaluator.get_aucess())"
   ]
  }
 ],
 "metadata": {
  "jupytext": {
   "formats": "ipynb,py:light",
   "main_language": "python",
   "notebook_metadata_filter": "jupytext,-kernelspec"
  },
  "kernelspec": {
   "display_name": "Python 3",
   "language": "python",
   "name": "python3"
  },
  "language_info": {
   "codemirror_mode": {
    "name": "ipython",
    "version": 3
   },
   "file_extension": ".py",
   "mimetype": "text/x-python",
   "name": "python",
   "nbconvert_exporter": "python",
   "pygments_lexer": "ipython3",
   "version": "3.6.7"
  }
 },
 "nbformat": 4,
 "nbformat_minor": 2
}
